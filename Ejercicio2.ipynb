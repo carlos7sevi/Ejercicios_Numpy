{
 "cells": [
  {
   "cell_type": "code",
   "execution_count": 3,
   "metadata": {},
   "outputs": [
    {
     "name": "stdout",
     "output_type": "stream",
     "text": [
      "Matriz 5x5:\n",
      "[[ 0  1  2  3  4]\n",
      " [ 5  6  7  8  9]\n",
      " [10 11 12 13 14]\n",
      " [15 16 17 18 19]\n",
      " [20 21 22 23 24]]\n",
      "\n",
      "Matriz 2x4:\n",
      "[[0 1 2 3]\n",
      " [4 5 6 7]]\n",
      "\n",
      "Array aplanado (vector):\n",
      "[ 0  1  2  3  4  5  6  7  8  9 10 11 12 13 14 15 16 17 18 19 20 21 22 23\n",
      " 24]\n",
      "\n",
      "Matriz 5x5 transpuesta:\n",
      "[[ 0  5 10 15 20]\n",
      " [ 1  6 11 16 21]\n",
      " [ 2  7 12 17 22]\n",
      " [ 3  8 13 18 23]\n",
      " [ 4  9 14 19 24]]\n"
     ]
    }
   ],
   "source": [
    "import numpy as np\n",
    "\n",
    "# Crear un array de 25 elementos\n",
    "array = np.arange(25)\n",
    "\n",
    "# 2. Cambiar la forma del array a una matriz 5x5\n",
    "matriz_5x5 = array.reshape(5, 5)\n",
    "print(\"Matriz 5x5:\")\n",
    "print(matriz_5x5)\n",
    "\n",
    "# 2. Cambiar la forma del array a una matriz 2x4\n",
    "matriz_2x4 = array[:8].reshape(2, 4)\n",
    "print(\"\\nMatriz 2x4:\")\n",
    "print(matriz_2x4)\n",
    "\n",
    "# 3. Aplanar el array a un vector\n",
    "vector_aplanado = matriz_5x5.flatten()\n",
    "print(\"\\nArray aplanado (vector):\")\n",
    "print(vector_aplanado)\n",
    "\n",
    "# 4. Transponer el array\n",
    "matriz_transpuesta = matriz_5x5.T\n",
    "print(\"\\nMatriz 5x5 transpuesta:\")\n",
    "print(matriz_transpuesta)\n",
    "\n"
   ]
  },
  {
   "cell_type": "code",
   "execution_count": 14,
   "metadata": {},
   "outputs": [
    {
     "name": "stdout",
     "output_type": "stream",
     "text": [
      "Suma de arrays: \n",
      " [[ 5  7  9]\n",
      " [ 8  3 12]]\n",
      "Resta de arrays: \n",
      " [[-3 -3 -3]\n",
      " [ 4  1  2]]\n",
      "Multiplicación de arrays: \n",
      " [[ 4 10 18]\n",
      " [12  2 35]]\n",
      "División de arrays: \n",
      " [[0.25 0.4  0.5 ]\n",
      " [3.   2.   1.4 ]]\n",
      "Multiplicación de array por escalar: \n",
      " [[ 6 12 18]\n",
      " [36 12 42]]\n"
     ]
    }
   ],
   "source": [
    "#Operaciones con arrays\n",
    "\n",
    "#Crea 2 arrays de matrices 2x2\n",
    "array1 = np.array ([[1,2,3],[6,2,7]])\n",
    "array2 = np.array ([[4,5,6],[2,1,5]])\n",
    "\n",
    "#Suma\n",
    "print(f\"Suma de arrays: \\n\",array1 + array2)\n",
    "\n",
    "#Resta\n",
    "print(f\"Resta de arrays: \\n\",array1 - array2)\n",
    "\n",
    "#Multiplicación\n",
    "print(f\"Multiplicación de arrays: \\n\",array1 * array2)\n",
    "\n",
    "#División\n",
    "print(f\"División de arrays: \\n\",array1 / array2)\n",
    "\n",
    "#Operación con escalar\n",
    "print(f\"Multiplicación de array por escalar: \\n\",array1 * 6)\n",
    "\n"
   ]
  },
  {
   "cell_type": "code",
   "execution_count": 21,
   "metadata": {},
   "outputs": [
    {
     "name": "stdout",
     "output_type": "stream",
     "text": [
      "[59 45 46 56 37 50 75 15 85 60 60 77 67 69 21 88 40 47 49 41 20  6 94 95\n",
      " 83]\n",
      "La suma acumulada de los números aleatorios es :  [  59  104  150  206  243  293  368  383  468  528  588  665  732  801\n",
      "  822  910  950  997 1046 1087 1107 1113 1207 1302 1385]\n",
      "La suma acumulada de los números aleatorios flotantes es :  [[[0.77913907 0.96934575 0.79450013 ... 0.81019162 0.69196692 0.44981401]\n",
      "  [0.87046692 0.86606724 0.61027619 ... 0.16025319 0.95872246 0.14431841]\n",
      "  [0.76638597 0.97911019 0.57542628 ... 0.45962247 0.44079581 0.97025996]\n",
      "  ...\n",
      "  [0.75267835 0.53359187 0.99080723 ... 0.39827558 0.29336845 0.47955772]\n",
      "  [0.26837062 0.77957129 0.30179009 ... 0.78943889 0.45668489 0.91963346]\n",
      "  [0.58078432 0.61245583 0.80328776 ... 0.14780798 0.22555927 0.85297949]]]\n"
     ]
    }
   ],
   "source": [
    "#Suma acumulada (Se suman los valores de la lista 1 por 1)\n",
    "\n",
    "#Crea un vector con 25 elementos con valores aleatorios\n",
    "import numpy as np\n",
    "import random\n",
    "\n",
    "#vector de 25 elementos aleatorios\n",
    "vector = np.random.randint(1, 100, 25)\n",
    "print(vector)\n",
    "\n",
    "#Suma acumulada\n",
    "suma_acumuladas = np.cumsum(vector)\n",
    "\n",
    "print(\"La suma acumulada de los números aleatorios es : \", suma_acumuladas)\n",
    "\n",
    "#vector de 25 elementos aleatorios flotantes\n",
    "vector_flotante = np.random.rand(1, 100, 25)\n",
    "print(\"La suma acumulada de los números aleatorios flotantes es : \",vector_flotante)\n",
    "\n",
    "\n",
    "\n"
   ]
  },
  {
   "cell_type": "code",
   "execution_count": 23,
   "metadata": {},
   "outputs": [
    {
     "name": "stdout",
     "output_type": "stream",
     "text": [
      "El disco más aprecido es : [ 49   4 250] con una distancia de 120.21\n"
     ]
    }
   ],
   "source": [
    "#supongamos que tenemos un conjunto de datos de discos de música con el siguiente formato: [número de canciones, premios grammy, ventas en miles de euros]. Cada disco es un vector en un espacio tridimensional. Dado un nuevo disco de nuestra discográfica queremos evaluar qué disco existente es más similar en términos de distancia euclidiana.\n",
    "\n",
    "disco_1 = np.array([49, 4, 250])  # número_canciones, premios_grammy, ventas_miles_euros\n",
    "disco_2 = np.array([60, 1, 212]) \n",
    "disco_3 = np.array([110, 2, 100]) \n",
    "\n",
    "nuevo_disco = np.array([80, 3, 190])\n",
    "\n",
    "# vectores\n",
    "discos = np.array([disco_1, disco_2, disco_3])\n",
    "\n",
    "# distancia euclidiana entre dos vectores\n",
    "def distancia(v1, v2):\n",
    "    return np.sqrt(np.sum((v1 - v2) ** 2)) \n",
    "\n",
    "# Calcular distancia euclidiana\n",
    "distancias = [distancia(nuevo_disco, discos) for disco in discos]\n",
    "\n",
    "# Encontrar el disco mas parecido\n",
    "indice_disco_mas_parecido = np.argmin(distancias)  # Usamos np.argmin() para encontrar el vector más cercano en términos de distancia. Esta función devuelve el índice del menor valor en un array.\n",
    "disco_mas_parecido = discos[indice_disco_mas_parecido]\n",
    "\n",
    "print(f\"El disco más aprecido es : {disco_mas_parecido} con una distancia de {distancias[indice_disco_mas_parecido]:.2f}\")\n",
    "\n",
    "\n"
   ]
  },
  {
   "cell_type": "code",
   "execution_count": 11,
   "metadata": {},
   "outputs": [
    {
     "name": "stdout",
     "output_type": "stream",
     "text": [
      "[2 2 1]\n",
      "[4 7 1]\n",
      "Producto punto: 23\n",
      "[6 6 2]\n",
      "[9 6 1]\n",
      "Producto cruzado: [ -6  12 -18]\n"
     ]
    }
   ],
   "source": [
    "#Crea dos vector con numeros aleatorios\n",
    "\n",
    "# 1. Producto Punto (Dot Product)\n",
    "import numpy as np\n",
    "import random\n",
    "\n",
    "vector1 = np.random.randint(1, 10, 3)\n",
    "vector2 = np.random.randint(1, 10, 3)\n",
    "\n",
    "producto_punto = np.dot(vector1, vector2)\n",
    "print(vector1)\n",
    "print(vector2)\n",
    "\n",
    "print(\"Producto punto:\", producto_punto)\n",
    "\n",
    "# 2. Producto Cruzado (Cross Product)\n",
    "\n",
    "vector3 = np.random.randint(1, 10, 3)\n",
    "vector4 = np.random.randint(1, 10, 3)\n",
    "\n",
    "producto_cruzado = np.cross(vector3, vector4)\n",
    "print(vector3)\n",
    "print(vector4)\n",
    "\n",
    "print(\"Producto cruzado:\", producto_cruzado)"
   ]
  },
  {
   "cell_type": "code",
   "execution_count": 20,
   "metadata": {},
   "outputs": [
    {
     "name": "stdout",
     "output_type": "stream",
     "text": [
      "Distancia Euclidiana entre A y B:, 520.34\n",
      "Norma L1 del vector A:, 50.00\n",
      "Norma L1 del vector B:, 1000.00\n",
      "Distancia al origen del vector A:, 27.39\n",
      "Distancia al origen del vector B:, 547.72\n"
     ]
    }
   ],
   "source": [
    "#Distancia Euclidiana (L2) y Distancia Manhattan (L1)\n",
    "\n",
    "#Del 5 al 20 dando un salto de 5\n",
    "#Del 100 al 400 dando un salto 100\n",
    "\n",
    "import numpy as np\n",
    "import random\n",
    "\n",
    "A = np.arange(5, 21, 5)\n",
    "B = np.arange(100, 401, 100)\n",
    "\n",
    "# Calcular distancia usando la norma L2\n",
    "distancia = np.linalg.norm(B - A)\n",
    "\n",
    "print(f\"Distancia Euclidiana entre A y B:, {distancia:.2f}\")\n",
    "\n",
    "# Calculamos la norma L1 (Manhattan)\n",
    "norma1_L1 = np.linalg.norm(A, ord=1)\n",
    "norma2_L1 = np.linalg.norm(B, ord=1)\n",
    "\n",
    "print(f\"Norma L1 del vector A:, {norma1_L1:.2f}\")\n",
    "print(f\"Norma L1 del vector B:, {norma2_L1:.2f}\")\n",
    "\n",
    "#Calcular distancia al origen\n",
    "distancia_origenA = np.sqrt(np.sum(A**2))\n",
    "print(f\"Distancia al origen del vector A:, {distancia_origenA:.2f}\")\n",
    "\n",
    "distancia_origenB = np.sqrt(np.sum(B**2))\n",
    "print(f\"Distancia al origen del vector B:, {distancia_origenB:.2f}\")"
   ]
  }
 ],
 "metadata": {
  "kernelspec": {
   "display_name": ".venv",
   "language": "python",
   "name": "python3"
  },
  "language_info": {
   "codemirror_mode": {
    "name": "ipython",
    "version": 3
   },
   "file_extension": ".py",
   "mimetype": "text/x-python",
   "name": "python",
   "nbconvert_exporter": "python",
   "pygments_lexer": "ipython3",
   "version": "3.10.0"
  }
 },
 "nbformat": 4,
 "nbformat_minor": 2
}
