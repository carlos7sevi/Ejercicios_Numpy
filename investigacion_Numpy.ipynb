{
 "cells": [
  {
   "cell_type": "markdown",
   "metadata": {},
   "source": [
    "- 11. Ejercicio de investigación de Numpy\n",
    "    - ¿Qué es NumPy y para qué se utiliza en programación científica?\n",
    "        Numpy es una biblioteca de Python que trabaja con números y programación científica. Se utiliza para realizar calculos matemáticos y manejar arrays.\n",
    "\n",
    "    - Historia de Numpy\n",
    "        Nació de 2 bibliotecas anteriores como \"Numeric y Numarray\". Fue lanzado en 2005 y ofreció muchas mejoras que las 2 anteriores.\n",
    "\n",
    "    - ¿Cuál es la diferencia entre una lista de Python y un array de NumPy?\n",
    "        Los arrays de NumPy solo pueden contener elementos del mismo tipo (enteros o flotantes), mientras que las listas de Python pueden contener datos de diferentes tipos.\n",
    "        NumPy ofrece muchas funciones matemáticas y operaciones específicas para trabajar con arrays multidimensionales, algo que no se puede hacer directamente con listas de Python.\n",
    "\n",
    "    - ¿Cómo se crea un array en NumPy? Explicar y dar ejemplos de:\n",
    "        - Un array unidimensional.\n",
    "            Un array de una sola dimensión como una lista. array_1d = np.array([1, 2, 3])\n",
    "        - Un array bidimensional.\n",
    "            Un array con filas y columnas, como una tabla. array_2d = np.array([[1, 2, 3], [4, 5, 6]])\n",
    "        - Un array de valores inicializados con ceros, unos y valores aleatorios.\n",
    "            Ceros: Array lleno de ceros. array_ceros = np.zeros((2, 3))\n",
    "            Unos: Array lleno de unos. array_unos = np.ones((2, 3))\n",
    "            Aleatorios: Array con valores entre 0 y 1 generados al azar. array_random = np.random.rand(2, 3)\n",
    "\n",
    "    - ¿Cómo acceder a los elementos de un array y cómo modificar sus valores?\n",
    "        array = np.array([10, 20, 30]) / array_2d = np.array([[1, 2, 3], [4, 5, 6]])\n",
    "        Acceder a valores: Unidimensional: print(array[1]) Bidimensional: print(array_2d[1, 2])\n",
    "        Modificar valores: Unidimensional: array[1] = 25 Bidimensional: array_2d[1, 2] = 9\n",
    "\n",
    "    - ¿Qué son los **ejes (axis)** en un array multidimensional? Explica con ejemplos prácticos.\n",
    "        Los ejes (axis) en un array multidimensional representan las direcciones de las cuales se realizan operaciones en el array.\n",
    "        Axis 0 (filas): Se refiere al eje vertical.\n",
    "        Axis 1 (columnas): Se refiere al eje horizontal.\n",
    "        Ejemplo:\n",
    "        array = np.array([[1, 2, 3], \n",
    "                  [4, 5, 6], \n",
    "                  [7, 8, 9]])\n",
    "            print(np.sum(array, axis=0))  # [12, 15, 18] Suma a lo largo de las columnas (reduce filas)\n",
    "            print(np.sum(array, axis=1))  # [6, 15, 24] Suma a lo largo de las filas (reduce columnas)\n",
    "\n",
    "    - Explica la diferencia entre **np.dot()** (producto escalar) y **np.cross()** (producto cruzado).\n",
    "        np.dot(): Calcula el producto escalar, dando un valor numérico que representa la relación entre dos vectores.\n",
    "        np.cross(): Calcula el producto cruzado, generando un vector perpendicular a los dos vectores originales (solo en 3D).\n",
    "\n",
    "    - ¿Cómo se pueden transformar las dimensiones de un array? Explica con ejemplos las funciones `reshape()` y `flatten()`.\n",
    "        arr = np.array([1, 2, 3, 4, 5, 6])\n",
    "        arr_reshaped = arr.reshape(2, 3) reshape(): Cambia las dimensiones de un array sin modificar sus datos. \n",
    "        arr_flattened = arr_reshaped.flatten() flatten(): Convierte un array multidimensional en un array unidimensional.\n",
    "\n",
    "    - ¿Qué es Matplotlib y en qué situaciones se usa en programación?\n",
    "        Matplotlib es una biblioteca de Python utilizada para crear gráficos y visualizaciones de datos en 2D. Permite generar gráficos como líneas, barras, histogramas, diagramas de dispersión, etc.\n",
    "        Se utiliza en situaciones donde se necesita mostrar de manera visual los datos para analizarlos, interpretarlos y presentar resultados de manera clara como en el aprendizaje automático, investigaciones científicas, etc."
   ]
  },
  {
   "cell_type": "markdown",
   "metadata": {},
   "source": []
  }
 ],
 "metadata": {
  "language_info": {
   "name": "python"
  }
 },
 "nbformat": 4,
 "nbformat_minor": 2
}
