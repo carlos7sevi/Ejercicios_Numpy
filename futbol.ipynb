{
 "cells": [
  {
   "cell_type": "code",
   "execution_count": 9,
   "metadata": {},
   "outputs": [
    {
     "name": "stdout",
     "output_type": "stream",
     "text": [
      "Jugadores: \n",
      " [[ 10   7 300  25  40]\n",
      " [ 15  10 250  30  50]\n",
      " [  5  12 280  20  35]\n",
      " [  8   6 310  15  38]\n",
      " [ 12   9 270  28  45]] \n",
      "\n",
      "L2 de los jugadores es:\n",
      " [[382]\n",
      " [355]\n",
      " [352]\n",
      " [377]\n",
      " [364]]\n",
      "\n",
      "L2 con axis=0 de los jugadores es:\n",
      " [[  50   44 1410  118  208]]\n"
     ]
    }
   ],
   "source": [
    "\"\"\"Eres un analista de rendimiento deportivo y tienes un equipo de **fútbol** que ha jugado **una temporada completa**. Para evaluar a cada jugador, has recopilado sus estadísticas en diferentes categorías:\n",
    "\n",
    "- **Goles marcados**\n",
    "- **Asistencias**\n",
    "- **Pases completados**\n",
    "- **Regates exitosos**\n",
    "- **Tiros a puerta**\n",
    "\n",
    "Sin embargo, los valores en cada categoría tienen escalas diferentes, por lo que es difícil comparar directamente el desempeño de los jugadores. Para resolver este problema, aplicarás la **normalización con la norma L2**, lo que permitirá convertir todas las estadísticas a una escala comparable.\n",
    "\n",
    "### **Objetivo del ejercicio**\n",
    "\n",
    "1. Representar el rendimiento de los jugadores como una matriz en NumPy.\n",
    "2. Aplicar la **normalización L2** a cada jugador para escalar sus valores entre 0 y 1 mientras se mantiene la proporción relativa.\n",
    "3. Comparar los jugadores después de la normalización.\n",
    "\n",
    "### **Datos de entrada**\n",
    "\n",
    "Supongamos que tenemos los datos de 5 jugadores:\n",
    "\n",
    "| Jugador | Goles | Asistencias | Pases | Regates | Tiros a puerta |\n",
    "| --- | --- | --- | --- | --- | --- |\n",
    "| Jugador 1 | 10 | 7 | 300 | 25 | 40 |\n",
    "| Jugador 2 | 15 | 10 | 250 | 30 | 50 |\n",
    "| Jugador 3 | 5 | 12 | 280 | 20 | 35 |\n",
    "| Jugador 4 | 8 | 6 | 310 | 15 | 38 |\n",
    "| Jugador 5 | 12 | 9 | 270 | 28 | 45 |\n",
    "\n",
    "Cada jugador es un **vector** con 5 componentes. Aplicaremos la **norma L2** para normalizar sus estadísticas.\n",
    "\n",
    "### **Tareas**\n",
    "\n",
    "1. Representar los datos como una matriz en NumPy.\n",
    "2. Aplicar la normalización L2 a cada jugador (por filas, usando `axis=1`).\n",
    "3. Mostrar los valores normalizados y analizar cómo se comparan los jugadores tras la normalización.\"\"\"\n",
    "\n",
    "import numpy as np\n",
    "\n",
    "jugadores = np.array([\n",
    "[10, 7, 300, 25, 40],\n",
    "[15, 10, 250, 30, 50],\n",
    "[5, 12, 280, 20, 35],\n",
    "[8, 6, 310, 15, 38],\n",
    "[12, 9, 270, 28, 45]])\n",
    "\n",
    "print(\"Jugadores: \\n\",jugadores,\"\\n\")\n",
    "\n",
    "L2 = np.sum(jugadores,axis=1,keepdims=True)\n",
    "print(\"L2 de los jugadores es:\\n\", L2)\n",
    "\n",
    "# Se comparan sumando todos sus valores y dividiendo por el L2 de cada jugador\n",
    "\n",
    "#P3\n",
    "L2_axis0 = np.sum(jugadores,axis=0,keepdims=True)\n",
    "print(\"\\nL2 con axis=0 de los jugadores es:\\n\", L2_axis0)\n"
   ]
  },
  {
   "cell_type": "markdown",
   "metadata": {},
   "source": [
    "### Preguntas\n",
    "\n",
    "- ¿Cómo cambian los valores después de la normalización?\n",
    "    No cambian, si no que se suman\n",
    "- ¿Por qué la normalización L2 es útil cuando los datos tienen escalas diferentes?\n",
    "    Porque transforma los datos de manera que todos los valores se ajustan proporcionalmente.\n",
    "- ¿Qué pasaría si normalizamos por **columnas (axis=0)** en lugar de por filas?\n",
    "    L2_axis0"
   ]
  }
 ],
 "metadata": {
  "kernelspec": {
   "display_name": ".venv",
   "language": "python",
   "name": "python3"
  },
  "language_info": {
   "codemirror_mode": {
    "name": "ipython",
    "version": 3
   },
   "file_extension": ".py",
   "mimetype": "text/x-python",
   "name": "python",
   "nbconvert_exporter": "python",
   "pygments_lexer": "ipython3",
   "version": "3.10.0"
  }
 },
 "nbformat": 4,
 "nbformat_minor": 2
}
