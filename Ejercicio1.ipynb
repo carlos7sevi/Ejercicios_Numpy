{
 "cells": [
  {
   "cell_type": "code",
   "execution_count": 3,
   "metadata": {},
   "outputs": [
    {
     "name": "stdout",
     "output_type": "stream",
     "text": [
      "['Smartphone' 'Tablet' 'Laptop' 'Auriculares' 'Teclado']\n"
     ]
    }
   ],
   "source": [
    "\"\"\"Crear un array unidimensional con el nombre de los productos:** Tienes una lista de 5 productos: `\"Smartphone\"`, `\"Tablet\"`, `\"Laptop\"`, `\"Auriculares\"`, `\"Teclado\"`. Imprímelo.\"\"\"\n",
    "\n",
    "import numpy as np\n",
    "\n",
    "productos = np.array([\"Smartphone\", \"Tablet\", \"Laptop\", \"Auriculares\", \"Teclado\"])\n",
    "print(productos)\n"
   ]
  },
  {
   "cell_type": "code",
   "execution_count": 21,
   "metadata": {},
   "outputs": [
    {
     "name": "stdout",
     "output_type": "stream",
     "text": [
      "[['Smartphone' '50']\n",
      " ['Tablet' '30']\n",
      " ['Laptop' '30']\n",
      " ['Auriculares' '90']\n",
      " ['Teclado' '70']]\n"
     ]
    }
   ],
   "source": [
    "\"\"\"2. **Crear un array bidimensional con la cantidad en stock de cada producto:** La tienda tiene el siguiente stock de productos:\n",
    "    \n",
    "    ```bash\n",
    "    Smartphone - 50\n",
    "    Tablet - 30\n",
    "    Laptop - 15\n",
    "    Auriculares - 40\n",
    "    Teclado - 60\n",
    "    ```\n",
    "    \n",
    "    Crea un array bidimensional donde cada fila represente un producto y las columnas representen el stock disponible en diferentes almacenes. Imprime el array.\"\"\"\n",
    "\n",
    "productos_2d = np.array([\n",
    "    [\"Smartphone\",50], [\"Tablet\",30], [\"Laptop\",30], [\"Auriculares\",90], [\"Teclado\",70]\n",
    "    ])\n",
    "print(productos_2d)"
   ]
  },
  {
   "cell_type": "code",
   "execution_count": 9,
   "metadata": {},
   "outputs": [
    {
     "name": "stdout",
     "output_type": "stream",
     "text": [
      "[[[5 3 2 6 4]\n",
      "  [7 4 1 8 5]\n",
      "  [6 2 3 5 4]]]\n"
     ]
    }
   ],
   "source": [
    "\"\"\"3. **Crear un array tridimensional para registrar las ventas de cada producto durante una semana:** Imagina que tienes un registro de ventas para cada uno de los 5 productos durante 3 días de la semana. Cada capa del array representará un día de ventas y las columnas serán las cantidades vendidas para cada producto:\"\"\"\n",
    "\n",
    "productos_3d = np.array ([[\n",
    "    [5, 3, 2, 6, 4],\n",
    "    [7, 4, 1, 8, 5],\n",
    "    [6, 2, 3, 5, 4]\n",
    "]])\n",
    "print(f\"Las ventas de 3 días son \",productos_3d)"
   ]
  },
  {
   "cell_type": "code",
   "execution_count": 12,
   "metadata": {},
   "outputs": [
    {
     "name": "stdout",
     "output_type": "stream",
     "text": [
      "[[0. 0. 0. 0. 0.]]\n"
     ]
    }
   ],
   "source": [
    "\"\"\"Crear un array de ceros para los productos no vendidos hoy: Los productos que no se han vendido hoy deben estar en cero. Crea un array de ceros para representar la cantidad de productos no vendidos de la tienda hoy. Imprime el array.\"\"\"\n",
    "\n",
    "\n",
    "productos_0 = np.zeros ([1,5])\n",
    "print(productos_0) "
   ]
  },
  {
   "cell_type": "code",
   "execution_count": 25,
   "metadata": {},
   "outputs": [
    {
     "name": "stdout",
     "output_type": "stream",
     "text": [
      "[[1. 0. 0. 0. 1.]]\n"
     ]
    }
   ],
   "source": [
    "\"\"\"Crear un array de unos para los productos que están en promoción: Los productos en promoción tienen un valor de 1, mientras que los que no están en promoción tienen 0. Crea un array de unos y ceros, donde los productos en promoción tienen el valor 1. Los productos en promoción son el \"Smartphone\" y el \"Teclado\". Imprímelo.\"\"\"\n",
    "\n",
    "promocion = np.ones((1,5))\n",
    "promocion[0,1:4] = 0\n",
    "print(promocion)"
   ]
  },
  {
   "cell_type": "code",
   "execution_count": 26,
   "metadata": {},
   "outputs": [
    {
     "name": "stdout",
     "output_type": "stream",
     "text": [
      "[  50  100  150  200  250  300  350  400  450  500  550  600  650  700\n",
      "  750  800  850  900  950 1000]\n"
     ]
    }
   ],
   "source": [
    "\"\"\"Crear un array con un rango de precios de productos: La tienda tiene productos cuyo precio varía entre 50 y 1000 unidades monetarias. Crea un array con los precios de los productos, usando la función np.arange, y un paso de 50 unidades. Imprímelo.\"\"\"\n",
    "\n",
    "precios = np.arange(50, 1001, 50)\n",
    "print(precios)"
   ]
  },
  {
   "cell_type": "code",
   "execution_count": 31,
   "metadata": {},
   "outputs": [
    {
     "name": "stdout",
     "output_type": "stream",
     "text": [
      "[150 385 344 115 411]\n"
     ]
    }
   ],
   "source": [
    "\"\"\"Crear un array de precios aleatorios: Crea un array con precios aleatorios para los productos entre 100 y 500 unidades monetarias, de tamaño 5. Imprímelo.\"\"\"\n",
    "\n",
    "import random\n",
    "precio_aleatorio = np.random.randint(100, 500, 5)\n",
    "print(precio_aleatorio)"
   ]
  },
  {
   "cell_type": "code",
   "execution_count": 32,
   "metadata": {},
   "outputs": [
    {
     "name": "stdout",
     "output_type": "stream",
     "text": [
      "[3 9 7 4 8]\n"
     ]
    }
   ],
   "source": [
    "\"\"\"Generar un array de números enteros aleatorios para la cantidad vendida: Utiliza np.random.randint para crear un array de 5 elementos, con valores aleatorios entre 1 y 10, que representen las unidades vendidas de cada producto hoy. Imprímelo.\"\"\"\n",
    "\n",
    "import random\n",
    "cantidad_aleatorio = np.random.randint(1, 10, 5)\n",
    "print(cantidad_aleatorio)"
   ]
  },
  {
   "cell_type": "code",
   "execution_count": 34,
   "metadata": {},
   "outputs": [
    {
     "name": "stdout",
     "output_type": "stream",
     "text": [
      "[[1.]\n",
      " [0.]\n",
      " [0.]\n",
      " [0.]\n",
      " [1.]]\n"
     ]
    }
   ],
   "source": [
    "\"\"\"Crear un array vacío para almacenar los valores de descuento: Crea un array vacío de tamaño 5x1 para almacenar los descuentos que se aplicarán a cada producto. Imprímelo.\"\"\"\n",
    "\n",
    "descuento = np.empty((5,1))\n",
    "print(descuento) "
   ]
  },
  {
   "cell_type": "code",
   "execution_count": 35,
   "metadata": {},
   "outputs": [
    {
     "name": "stdout",
     "output_type": "stream",
     "text": [
      "[   0.  250.  500.  750. 1000.]\n"
     ]
    }
   ],
   "source": [
    "\"\"\"Generar un array con valores espaciados para analizar el cambio en las ventas: Imagina que deseas analizar cómo cambian las ventas en diferentes intervalos de tiempo (por ejemplo, cada 2 horas). Utiliza np.linspacepara generar un array con 5 puntos de venta, distribuidos entre 0 y 1000 unidades, representando las ventas totales del día. Imprímelo.\"\"\"\n",
    "\n",
    "ventas_totales = np.linspace(0, 1000, 5)\n",
    "print(ventas_totales) "
   ]
  },
  {
   "cell_type": "code",
   "execution_count": 1,
   "metadata": {},
   "outputs": [
    {
     "name": "stderr",
     "output_type": "stream",
     "text": [
      "[NbConvertApp] Converting notebook notebook_inicial.ipynb to pdf\n",
      "[NbConvertApp] Writing 30675 bytes to notebook.tex\n",
      "[NbConvertApp] Building PDF\n",
      "[NbConvertApp] Running xelatex 3 times: ['xelatex', 'notebook.tex', '-quiet']\n",
      "[NbConvertApp] Running bibtex 1 time: ['bibtex', 'notebook']\n",
      "[NbConvertApp] WARNING | b had problems, most likely because there were no citations\n",
      "[NbConvertApp] PDF successfully created\n",
      "[NbConvertApp] Writing 28851 bytes to notebook_inicial.pdf\n"
     ]
    }
   ],
   "source": [
    "!jupyter nbconvert --to pdf notebook_inicial.ipynb"
   ]
  }
 ],
 "metadata": {
  "kernelspec": {
   "display_name": ".venv",
   "language": "python",
   "name": "python3"
  },
  "language_info": {
   "codemirror_mode": {
    "name": "ipython",
    "version": 3
   },
   "file_extension": ".py",
   "mimetype": "text/x-python",
   "name": "python",
   "nbconvert_exporter": "python",
   "pygments_lexer": "ipython3",
   "version": "3.10.0"
  }
 },
 "nbformat": 4,
 "nbformat_minor": 2
}
