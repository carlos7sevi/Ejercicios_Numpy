{
 "cells": [
  {
   "cell_type": "code",
   "execution_count": 8,
   "metadata": {},
   "outputs": [
    {
     "name": "stdout",
     "output_type": "stream",
     "text": [
      "El producto escalar de los vectores es:  44.5\n"
     ]
    }
   ],
   "source": [
    "\"\"\"Eres un entrenador de atletismo y necesitas evaluar el desempeño de un atleta en diferentes pruebas de velocidad y resistencia. Para hacerlo, utilizas dos vectores:\n",
    "\n",
    "- **Vector de rendimiento del atleta:** Contiene los tiempos que ha tardado en recorrer diferentes distancias (100m, 200m, 400m, 800m, 1500m).\n",
    "- **Vector de importancia de cada prueba:** Define qué tan importante es cada distancia en la evaluación final (por ejemplo, si priorizas pruebas de velocidad o de resistencia).\n",
    "\n",
    "El **producto escalar** te permitirá calcular un **índice de rendimiento** que refleja la eficiencia del atleta considerando la importancia de cada prueba.\n",
    "\n",
    "### **Objetivos del ejercicio**\n",
    "\n",
    "1. Representar el rendimiento de un atleta y la importancia de cada prueba como vectores.\n",
    "2. Calcular el producto escalar entre ambos vectores.\n",
    "3. Interpretar el resultado: un menor valor indica mejor rendimiento, ya que los tiempos son menores en pruebas más importantes.\n",
    "\n",
    "### **Datos de entrada**\n",
    "\n",
    "Supongamos que tenemos los siguientes datos:\n",
    "\n",
    "- **Tiempos del atleta (en segundos):** `[11, 22, 50, 110, 250]`\n",
    "- **Importancia de las pruebas:** `[0.4, 0.3, 0.2, 0.1, 0.05]` *(priorizamos más las pruebas cortas de velocidad que las largas de resistencia).*\n",
    "\n",
    "### **Tareas**\n",
    "\n",
    "1. Representa los datos como vectores en NumPy.\n",
    "2. Calcula el producto escalar entre los vectores.\n",
    "3. Explica qué significa el resultado obtenido en términos del rendimiento del atleta.\"\"\"\n",
    "\n",
    "import numpy as np\n",
    "\n",
    "tiempos = np.array([11, 22, 50, 110, 250])\n",
    "importancia = np.array ([0.4, 0.3, 0.2, 0.1, 0.05])\n",
    "\n",
    "producto_escalar = np.dot(tiempos,importancia)\n",
    "print(f\"El producto escalar de los vectores es: \",producto_escalar)\n",
    "\n",
    "# El atleta tiene un rendimiento aceptable pero con áreas de mejora en pruebas cortas.\n"
   ]
  },
  {
   "cell_type": "markdown",
   "metadata": {},
   "source": [
    "### Preguntas\n",
    "\n",
    "- ¿Cómo afectaría al resultado si el atleta mejora su tiempo en la prueba de 100m?\n",
    "    Mejoria el resultado, ya que es la carrera más corta y la que cuenta más.\n",
    "- ¿Qué pasaría si le damos más importancia a las pruebas de resistencia?\n",
    "    Pues que el rendimiento del atleta mejorará ya que es mejor en pruebas de resistencia.\n",
    "- ¿Cómo se podría utilizar esta métrica para comparar a diferentes atletas?\n",
    "    Pues según el producto escalar de cada uno, el que tenga el producto escalar más bajo sería el que rindiera mejor.\n"
   ]
  }
 ],
 "metadata": {
  "kernelspec": {
   "display_name": ".venv",
   "language": "python",
   "name": "python3"
  },
  "language_info": {
   "codemirror_mode": {
    "name": "ipython",
    "version": 3
   },
   "file_extension": ".py",
   "mimetype": "text/x-python",
   "name": "python",
   "nbconvert_exporter": "python",
   "pygments_lexer": "ipython3",
   "version": "3.10.0"
  }
 },
 "nbformat": 4,
 "nbformat_minor": 2
}
